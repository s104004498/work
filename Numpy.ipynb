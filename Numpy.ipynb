{
  "nbformat": 4,
  "nbformat_minor": 0,
  "metadata": {
    "colab": {
      "name": "Numpy.ipynb",
      "version": "0.3.2",
      "provenance": [],
      "include_colab_link": true
    },
    "kernelspec": {
      "name": "python3",
      "display_name": "Python 3"
    }
  },
  "cells": [
    {
      "cell_type": "markdown",
      "metadata": {
        "id": "view-in-github",
        "colab_type": "text"
      },
      "source": [
        "<a href=\"https://colab.research.google.com/github/s104004498/work/blob/master/Numpy.ipynb\" target=\"_parent\"><img src=\"https://colab.research.google.com/assets/colab-badge.svg\" alt=\"Open In Colab\"/></a>"
      ]
    },
    {
      "cell_type": "markdown",
      "metadata": {
        "id": "6GySq6faL4OF",
        "colab_type": "text"
      },
      "source": [
        "#Numpy"
      ]
    },
    {
      "cell_type": "code",
      "metadata": {
        "id": "JbEB0KyRIOEU",
        "colab_type": "code",
        "colab": {
          "base_uri": "https://localhost:8080/",
          "height": 85
        },
        "outputId": "3b19ca52-2d0c-4249-83ad-bfde7a1b0a7f"
      },
      "source": [
        "import pandas as pd\n",
        "print(\"pandas version: %s\" % pd.__version__)\n",
        "import matplotlib\n",
        "print(\"matplotlib version: %s\" % matplotlib.__version__)\n",
        "import numpy as np\n",
        "print(\"numpy version: %s\" % np.__version__)\n",
        "import sklearn\n",
        "print(\"scikit-learn version: %s\" % sklearn.__version__)\n"
      ],
      "execution_count": 1,
      "outputs": [
        {
          "output_type": "stream",
          "text": [
            "pandas version: 0.24.2\n",
            "matplotlib version: 3.0.3\n",
            "numpy version: 1.16.3\n",
            "scikit-learn version: 0.20.3\n"
          ],
          "name": "stdout"
        }
      ]
    },
    {
      "cell_type": "markdown",
      "metadata": {
        "id": "7Q_Y-6FuK9sE",
        "colab_type": "text"
      },
      "source": [
        "#建立array陣列"
      ]
    },
    {
      "cell_type": "markdown",
      "metadata": {
        "id": "uUX9hzl4LF0r",
        "colab_type": "text"
      },
      "source": [
        "使用np.array()建立陣列"
      ]
    },
    {
      "cell_type": "code",
      "metadata": {
        "id": "lfN7EI72JNL0",
        "colab_type": "code",
        "colab": {
          "base_uri": "https://localhost:8080/",
          "height": 68
        },
        "outputId": "d1cf2d94-c871-4b21-f02c-cd9507d51ba4"
      },
      "source": [
        "import numpy as np\n",
        "x = np.array([[1,2.0],[0,0],(1+1j,3.)])\n",
        "print(x)"
      ],
      "execution_count": 2,
      "outputs": [
        {
          "output_type": "stream",
          "text": [
            "[[1.+0.j 2.+0.j]\n",
            " [0.+0.j 0.+0.j]\n",
            " [1.+1.j 3.+0.j]]\n"
          ],
          "name": "stdout"
        }
      ]
    },
    {
      "cell_type": "markdown",
      "metadata": {
        "id": "O4dNKzPoLhgL",
        "colab_type": "text"
      },
      "source": [
        "使用numpy提供的創建函數直接生成"
      ]
    },
    {
      "cell_type": "code",
      "metadata": {
        "id": "qbqDp96DLnMz",
        "colab_type": "code",
        "colab": {
          "base_uri": "https://localhost:8080/",
          "height": 51
        },
        "outputId": "8ea95301-40b4-417a-a2c9-dd7e0970f960"
      },
      "source": [
        "import numpy as np\n",
        "x=np.zeros((2, 3))\n",
        "print(x)"
      ],
      "execution_count": 3,
      "outputs": [
        {
          "output_type": "stream",
          "text": [
            "[[0. 0. 0.]\n",
            " [0. 0. 0.]]\n"
          ],
          "name": "stdout"
        }
      ]
    },
    {
      "cell_type": "code",
      "metadata": {
        "id": "5xt6UdnaMDzM",
        "colab_type": "code",
        "colab": {
          "base_uri": "https://localhost:8080/",
          "height": 34
        },
        "outputId": "09933e04-fc12-4b99-953d-b18d405cf5b3"
      },
      "source": [
        "import numpy as np\n",
        "y=np.arange(2, 3, 0.1) # start, end, step\n",
        "print(y)\n"
      ],
      "execution_count": 5,
      "outputs": [
        {
          "output_type": "stream",
          "text": [
            "[2.  2.1 2.2 2.3 2.4 2.5 2.6 2.7 2.8 2.9]\n"
          ],
          "name": "stdout"
        }
      ]
    },
    {
      "cell_type": "code",
      "metadata": {
        "id": "pC945xAUMQKL",
        "colab_type": "code",
        "colab": {
          "base_uri": "https://localhost:8080/",
          "height": 34
        },
        "outputId": "69e7acf5-cad7-4b57-f507-053bc24e32de"
      },
      "source": [
        "import numpy as np\n",
        "#z=np.linspace(1., 4., 6) # start, end, num\n",
        "\n",
        "z=np.linspace(2.0, 3.0, num=5, retstep=True)\n",
        "print(z)\n"
      ],
      "execution_count": 10,
      "outputs": [
        {
          "output_type": "stream",
          "text": [
            "(array([2.  , 2.25, 2.5 , 2.75, 3.  ]), 0.25)\n"
          ],
          "name": "stdout"
        }
      ]
    },
    {
      "cell_type": "markdown",
      "metadata": {
        "id": "TZq207FCRoAM",
        "colab_type": "text"
      },
      "source": [
        "#屬性\n"
      ]
    },
    {
      "cell_type": "code",
      "metadata": {
        "id": "sK_5_Xh2RsOU",
        "colab_type": "code",
        "colab": {}
      },
      "source": [
        "import numpy as np\n",
        "\n",
        "ar2=np.array([[0,3,5],[2,8,7]]) # 2D array\n",
        "\n",
        "ar2.shape"
      ],
      "execution_count": 0,
      "outputs": []
    },
    {
      "cell_type": "code",
      "metadata": {
        "id": "V2GJ-l4HR4qT",
        "colab_type": "code",
        "colab": {
          "base_uri": "https://localhost:8080/",
          "height": 34
        },
        "outputId": "e4439d35-b357-41ba-9eb0-958cc9bd512c"
      },
      "source": [
        "ar2.ndim\n"
      ],
      "execution_count": 12,
      "outputs": [
        {
          "output_type": "execute_result",
          "data": {
            "text/plain": [
              "2"
            ]
          },
          "metadata": {
            "tags": []
          },
          "execution_count": 12
        }
      ]
    },
    {
      "cell_type": "markdown",
      "metadata": {
        "id": "KwH_aPY9SBsk",
        "colab_type": "text"
      },
      "source": [
        "#NDarray的各種運算"
      ]
    },
    {
      "cell_type": "markdown",
      "metadata": {
        "id": "TYRLwYMXSGwz",
        "colab_type": "text"
      },
      "source": [
        "###reshape()"
      ]
    },
    {
      "cell_type": "code",
      "metadata": {
        "id": "eN_YOspRSKsD",
        "colab_type": "code",
        "colab": {
          "base_uri": "https://localhost:8080/",
          "height": 34
        },
        "outputId": "00d1a049-ea14-4169-cc1a-d388e1573aab"
      },
      "source": [
        "x = np.arange(4)\n",
        "x\n"
      ],
      "execution_count": 15,
      "outputs": [
        {
          "output_type": "execute_result",
          "data": {
            "text/plain": [
              "array([0, 1, 2, 3])"
            ]
          },
          "metadata": {
            "tags": []
          },
          "execution_count": 15
        }
      ]
    },
    {
      "cell_type": "code",
      "metadata": {
        "id": "HjZVSFW1SWN9",
        "colab_type": "code",
        "colab": {
          "base_uri": "https://localhost:8080/",
          "height": 34
        },
        "outputId": "fd6e928b-c4ab-409c-9e66-9f810fc4dead"
      },
      "source": [
        "x2 = x.reshape(4,1)\n",
        "x2\n",
        "x2.shape"
      ],
      "execution_count": 17,
      "outputs": [
        {
          "output_type": "execute_result",
          "data": {
            "text/plain": [
              "(4, 1)"
            ]
          },
          "metadata": {
            "tags": []
          },
          "execution_count": 17
        }
      ]
    },
    {
      "cell_type": "markdown",
      "metadata": {
        "id": "86hEf5fJTLlM",
        "colab_type": "text"
      },
      "source": [
        "#作業"
      ]
    },
    {
      "cell_type": "code",
      "metadata": {
        "id": "_KWR56JHTNaM",
        "colab_type": "code",
        "colab": {
          "base_uri": "https://localhost:8080/",
          "height": 51
        },
        "outputId": "9c4bf6ab-b566-4e82-d6ab-b46a7554c9e1"
      },
      "source": [
        "import numpy as np\n",
        "\n",
        "a=np.array([[0,1],[2,3]])\n",
        "\n",
        "print(a)\n",
        "\n"
      ],
      "execution_count": 18,
      "outputs": [
        {
          "output_type": "stream",
          "text": [
            "[[0 1]\n",
            " [2 3]]\n"
          ],
          "name": "stdout"
        }
      ]
    },
    {
      "cell_type": "code",
      "metadata": {
        "id": "TL8TnrHWTYU9",
        "colab_type": "code",
        "colab": {
          "base_uri": "https://localhost:8080/",
          "height": 85
        },
        "outputId": "42df11f8-e494-4109-e163-1234d9e1782c"
      },
      "source": [
        "import numpy as np\n",
        "\n",
        "x=np.arange(2,10).reshape(4,2)\n",
        "x"
      ],
      "execution_count": 20,
      "outputs": [
        {
          "output_type": "execute_result",
          "data": {
            "text/plain": [
              "array([[2, 3],\n",
              "       [4, 5],\n",
              "       [6, 7],\n",
              "       [8, 9]])"
            ]
          },
          "metadata": {
            "tags": []
          },
          "execution_count": 20
        }
      ]
    },
    {
      "cell_type": "code",
      "metadata": {
        "id": "WINr_n0UVzsU",
        "colab_type": "code",
        "colab": {
          "base_uri": "https://localhost:8080/",
          "height": 272
        },
        "outputId": "01684b55-c15e-430a-86d8-fa1882276729"
      },
      "source": [
        "import numpy as np\n",
        "\n",
        "x=np.arange(24).reshape(4,3,2)\n",
        "x"
      ],
      "execution_count": 21,
      "outputs": [
        {
          "output_type": "execute_result",
          "data": {
            "text/plain": [
              "array([[[ 0,  1],\n",
              "        [ 2,  3],\n",
              "        [ 4,  5]],\n",
              "\n",
              "       [[ 6,  7],\n",
              "        [ 8,  9],\n",
              "        [10, 11]],\n",
              "\n",
              "       [[12, 13],\n",
              "        [14, 15],\n",
              "        [16, 17]],\n",
              "\n",
              "       [[18, 19],\n",
              "        [20, 21],\n",
              "        [22, 23]]])"
            ]
          },
          "metadata": {
            "tags": []
          },
          "execution_count": 21
        }
      ]
    }
  ]
}